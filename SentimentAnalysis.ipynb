{
  "nbformat": 4,
  "nbformat_minor": 0,
  "metadata": {
    "colab": {
      "provenance": [],
      "mount_file_id": "1OnyEi22QLt66lNVHTv-PkwZ3K0AbNQWt",
      "authorship_tag": "ABX9TyOPBAleSX+xdj/Cndd1lE08",
      "include_colab_link": true
    },
    "kernelspec": {
      "name": "python3",
      "display_name": "Python 3"
    },
    "language_info": {
      "name": "python"
    }
  },
  "cells": [
    {
      "cell_type": "markdown",
      "metadata": {
        "id": "view-in-github",
        "colab_type": "text"
      },
      "source": [
        "<a href=\"https://colab.research.google.com/github/KritiChandra11/Sentiment-Analysis/blob/main/SentimentAnalysis.ipynb\" target=\"_parent\"><img src=\"https://colab.research.google.com/assets/colab-badge.svg\" alt=\"Open In Colab\"/></a>"
      ]
    },
    {
      "cell_type": "code",
      "execution_count": null,
      "metadata": {
        "id": "Gg-uYrjQCJJh"
      },
      "outputs": [],
      "source": [
        "import pandas as pd\n",
        "path =\"/content/drive/MyDrive/IMDB dataset/IMDB Dataset.csv.zip\"\n",
        "df = pd.read_csv(path)\n",
        "print(df.head())\n"
      ]
    },
    {
      "cell_type": "code",
      "source": [
        "from transformers import GPT2LMHeadModel, GPT2Tokenizer\n",
        "import torch\n",
        "import random\n",
        "import numpy as np\n",
        "\n",
        "# A. Initialization\n",
        "model_name = 'gpt2'\n",
        "tokenizer = GPT2Tokenizer.from_pretrained(model_name)\n",
        "model = GPT2LMHeadModel.from_pretrained(model_name)\n",
        "model.eval()\n",
        "\n",
        "# Seed for reproducibility\n",
        "torch.manual_seed(42)\n",
        "np.random.seed(42)\n",
        "random.seed(42)\n",
        "\n",
        "# B. Prompt Handling\n",
        "prompt1 = \"The mysterious forest held a secret that\"\n",
        "prompt2 = \"In the future, humans and robots will\"\n",
        "\n",
        "input_ids1 = tokenizer.encode(prompt1, return_tensors='pt')\n",
        "input_ids2 = tokenizer.encode(prompt2, return_tensors='pt')\n",
        "\n",
        "# C. Greedy Decoding\n",
        "greedy_output1 = model.generate(input_ids1, max_length=50, pad_token_id=tokenizer.eos_token_id)\n",
        "greedy_output2 = model.generate(input_ids2, max_length=50, pad_token_id=tokenizer.eos_token_id)\n",
        "\n",
        "# Token Inspection\n",
        "def inspect_output(prompt, input_ids, output_ids):\n",
        "    print(f\"\\nPrompt: {prompt}\")\n",
        "    print(f\"Token IDs: {output_ids[0].tolist()}\")\n",
        "    print(\"Decoded Text:\")\n",
        "    print(tokenizer.decode(output_ids[0], skip_special_tokens=True))\n",
        "\n",
        "inspect_output(prompt1, input_ids1, greedy_output1)\n",
        "inspect_output(prompt2, input_ids2, greedy_output2)\n",
        "\n",
        "# D. Sampling Methods on Prompt 1\n",
        "print(\"\\nSampling Methods for Prompt 1:\\n\")\n",
        "\n",
        "# Temperature Sampling\n",
        "temp_output = model.generate(input_ids1, do_sample=True, temperature=0.7, max_length=50, pad_token_id=tokenizer.eos_token_id)\n",
        "print(\"Temperature Sampling (T=0.7):\")\n",
        "print(tokenizer.decode(temp_output[0], skip_special_tokens=True))\n",
        "\n",
        "# Top-k Sampling\n",
        "top_k_output = model.generate(input_ids1, do_sample=True, top_k=50, max_length=50, pad_token_id=tokenizer.eos_token_id)\n",
        "print(\"\\nTop-k Sampling (k=50):\")\n",
        "print(tokenizer.decode(top_k_output[0], skip_special_tokens=True))\n",
        "\n",
        "# Top-p (Nucleus) Sampling\n",
        "top_p_output = model.generate(input_ids1, do_sample=True, top_p=0.9, max_length=50, pad_token_id=tokenizer.eos_token_id)\n",
        "print(\"\\nTop-p Sampling (p=0.9):\")\n",
        "print(tokenizer.decode(top_p_output[0], skip_special_tokens=True))\n"
      ],
      "metadata": {
        "id": "5I5XHBGUFKOe"
      },
      "execution_count": null,
      "outputs": []
    }
  ]
}